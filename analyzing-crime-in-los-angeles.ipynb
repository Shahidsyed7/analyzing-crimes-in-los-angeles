{
 "cells": [
  {
   "cell_type": "markdown",
   "id": "e7e74105",
   "metadata": {
    "papermill": {
     "duration": 0.003411,
     "end_time": "2024-08-27T10:32:44.094379",
     "exception": false,
     "start_time": "2024-08-27T10:32:44.090968",
     "status": "completed"
    },
    "tags": []
   },
   "source": [
    "Los Angeles, California 😎. The City of Angels. Tinseltown. The Entertainment Capital of the World! \n",
    "\n",
    "Known for its warm weather, palm trees, sprawling coastline, and Hollywood, along with producing some of the most iconic films and songs. However, as with any highly populated city, it isn't always glamorous and there can be a large volume of crime. That's where you can help!\n",
    "\n",
    "They have provided you with a single dataset to use. A summary and preview are provided below.\n",
    "\n",
    "It is a modified version of the original data, which is publicly available from Los Angeles Open Data.\n",
    "Analyze and answer the following questions:\n",
    "*Which hour has the highest frequency of crimes?\n",
    "*Which area has the largest frequency of night crimes (crimes committed between 10pm and 3:59am)? \n",
    "*Identify the number of crimes committed against victims of different age groups. Save as a pandas Series called victim_ages, with age group labels \"0-17\", \"18-25\", \"26-34\", \"35-44\", \"45-54\", \"55-64\", and \"65+\" as the index and the frequency of crimes as the values.\n",
    "\n",
    "# crimes.csv\n",
    "\n",
    "| Column     | Description              |\n",
    "|------------|--------------------------|\n",
    "| `'DR_NO'` | Division of Records Number: Official file number made up of a 2-digit year, area ID, and 5 digits. |\n",
    "| `'Date Rptd'` | Date reported - MM/DD/YYYY. |\n",
    "| `'DATE OCC'` | Date of occurrence - MM/DD/YYYY. |\n",
    "| `'TIME OCC'` | In 24-hour military time. |\n",
    "| `'AREA NAME'` | The 21 Geographic Areas or Patrol Divisions are also given a name designation that references a landmark or the surrounding community that it is responsible for. For example, the 77th Street Division is located at the intersection of South Broadway and 77th Street, serving neighborhoods in South Los Angeles. |\n",
    "| `'Crm Cd Desc'` | Indicates the crime committed. |\n",
    "| `'Vict Age'` | Victim's age in years. |\n",
    "| `'Vict Sex'` | Victim's sex: `F`: Female, `M`: Male, `X`: Unknown. |\n",
    "| `'Vict Descent'` | Victim's descent:<ul><li>`A` - Other Asian</li><li>`B` - Black</li><li>`C` - Chinese</li><li>`D` - Cambodian</li><li>`F` - Filipino</li><li>`G` - Guamanian</li><li>`H` - Hispanic/Latin/Mexican</li><li>`I` - American Indian/Alaskan Native</li><li>`J` - Japanese</li><li>`K` - Korean</li><li>`L` - Laotian</li><li>`O` - Other</li><li>`P` - Pacific Islander</li><li>`S` - Samoan</li><li>`U` - Hawaiian</li><li>`V` - Vietnamese</li><li>`W` - White</li><li>`X` - Unknown</li><li>`Z` - Asian Indian</li> |\n",
    "| `'Weapon Desc'` | Description of the weapon used (if applicable). |\n",
    "| `'Status Desc'` | Crime status. |\n",
    "| `'LOCATION'` | Street address of the crime. |"
   ]
  },
  {
   "cell_type": "code",
   "execution_count": 1,
   "id": "8f022886",
   "metadata": {
    "execution": {
     "iopub.execute_input": "2024-08-27T10:32:44.101902Z",
     "iopub.status.busy": "2024-08-27T10:32:44.101436Z",
     "iopub.status.idle": "2024-08-27T10:32:48.361785Z",
     "shell.execute_reply": "2024-08-27T10:32:48.360550Z"
    },
    "executionCancelledAt": null,
    "executionTime": 4997,
    "lastExecutedAt": 1724753521288,
    "lastExecutedByKernel": "7633ef43-3b76-4051-aa04-51ab9e8b726a",
    "lastScheduledRunId": null,
    "lastSuccessfullyExecutedCode": "import pandas as pd\nimport numpy as np\nimport matplotlib.pyplot as plt\nimport seaborn as sns\ncrimes = pd.read_csv(\"crimes.csv\", parse_dates=[\"Date Rptd\", \"DATE OCC\"], dtype={\"TIME OCC\": str})\ncrimes.head()",
    "outputsMetadata": {
     "0": {
      "height": 211,
      "type": "dataFrame"
     }
    },
    "papermill": {
     "duration": 4.268114,
     "end_time": "2024-08-27T10:32:48.365363",
     "exception": false,
     "start_time": "2024-08-27T10:32:44.097249",
     "status": "completed"
    },
    "tags": []
   },
   "outputs": [
    {
     "data": {
      "text/html": [
       "<div>\n",
       "<style scoped>\n",
       "    .dataframe tbody tr th:only-of-type {\n",
       "        vertical-align: middle;\n",
       "    }\n",
       "\n",
       "    .dataframe tbody tr th {\n",
       "        vertical-align: top;\n",
       "    }\n",
       "\n",
       "    .dataframe thead th {\n",
       "        text-align: right;\n",
       "    }\n",
       "</style>\n",
       "<table border=\"1\" class=\"dataframe\">\n",
       "  <thead>\n",
       "    <tr style=\"text-align: right;\">\n",
       "      <th></th>\n",
       "      <th>DR_NO</th>\n",
       "      <th>Date Rptd</th>\n",
       "      <th>DATE OCC</th>\n",
       "      <th>TIME OCC</th>\n",
       "      <th>AREA NAME</th>\n",
       "      <th>Crm Cd Desc</th>\n",
       "      <th>Vict Age</th>\n",
       "      <th>Vict Sex</th>\n",
       "      <th>Vict Descent</th>\n",
       "      <th>Weapon Desc</th>\n",
       "      <th>Status Desc</th>\n",
       "      <th>LOCATION</th>\n",
       "    </tr>\n",
       "  </thead>\n",
       "  <tbody>\n",
       "    <tr>\n",
       "      <th>0</th>\n",
       "      <td>220314085</td>\n",
       "      <td>2022-07-22</td>\n",
       "      <td>2020-05-12</td>\n",
       "      <td>1110</td>\n",
       "      <td>Southwest</td>\n",
       "      <td>THEFT OF IDENTITY</td>\n",
       "      <td>27</td>\n",
       "      <td>F</td>\n",
       "      <td>B</td>\n",
       "      <td>NaN</td>\n",
       "      <td>Invest Cont</td>\n",
       "      <td>2500 S  SYCAMORE                     AV</td>\n",
       "    </tr>\n",
       "    <tr>\n",
       "      <th>1</th>\n",
       "      <td>222013040</td>\n",
       "      <td>2022-08-06</td>\n",
       "      <td>2020-06-04</td>\n",
       "      <td>1620</td>\n",
       "      <td>Olympic</td>\n",
       "      <td>THEFT OF IDENTITY</td>\n",
       "      <td>60</td>\n",
       "      <td>M</td>\n",
       "      <td>H</td>\n",
       "      <td>NaN</td>\n",
       "      <td>Invest Cont</td>\n",
       "      <td>3300    SAN MARINO                   ST</td>\n",
       "    </tr>\n",
       "    <tr>\n",
       "      <th>2</th>\n",
       "      <td>220614831</td>\n",
       "      <td>2022-08-18</td>\n",
       "      <td>2020-08-17</td>\n",
       "      <td>1200</td>\n",
       "      <td>Hollywood</td>\n",
       "      <td>THEFT OF IDENTITY</td>\n",
       "      <td>28</td>\n",
       "      <td>M</td>\n",
       "      <td>H</td>\n",
       "      <td>NaN</td>\n",
       "      <td>Invest Cont</td>\n",
       "      <td>1900    TRANSIENT</td>\n",
       "    </tr>\n",
       "    <tr>\n",
       "      <th>3</th>\n",
       "      <td>231207725</td>\n",
       "      <td>2023-02-27</td>\n",
       "      <td>2020-01-27</td>\n",
       "      <td>0635</td>\n",
       "      <td>77th Street</td>\n",
       "      <td>THEFT OF IDENTITY</td>\n",
       "      <td>37</td>\n",
       "      <td>M</td>\n",
       "      <td>H</td>\n",
       "      <td>NaN</td>\n",
       "      <td>Invest Cont</td>\n",
       "      <td>6200    4TH                          AV</td>\n",
       "    </tr>\n",
       "    <tr>\n",
       "      <th>4</th>\n",
       "      <td>220213256</td>\n",
       "      <td>2022-07-14</td>\n",
       "      <td>2020-07-14</td>\n",
       "      <td>0900</td>\n",
       "      <td>Rampart</td>\n",
       "      <td>THEFT OF IDENTITY</td>\n",
       "      <td>79</td>\n",
       "      <td>M</td>\n",
       "      <td>B</td>\n",
       "      <td>NaN</td>\n",
       "      <td>Invest Cont</td>\n",
       "      <td>1200 W  7TH                          ST</td>\n",
       "    </tr>\n",
       "  </tbody>\n",
       "</table>\n",
       "</div>"
      ],
      "text/plain": [
       "       DR_NO  Date Rptd   DATE OCC TIME OCC    AREA NAME        Crm Cd Desc  \\\n",
       "0  220314085 2022-07-22 2020-05-12     1110    Southwest  THEFT OF IDENTITY   \n",
       "1  222013040 2022-08-06 2020-06-04     1620      Olympic  THEFT OF IDENTITY   \n",
       "2  220614831 2022-08-18 2020-08-17     1200    Hollywood  THEFT OF IDENTITY   \n",
       "3  231207725 2023-02-27 2020-01-27     0635  77th Street  THEFT OF IDENTITY   \n",
       "4  220213256 2022-07-14 2020-07-14     0900      Rampart  THEFT OF IDENTITY   \n",
       "\n",
       "   Vict Age Vict Sex Vict Descent Weapon Desc  Status Desc  \\\n",
       "0        27        F            B         NaN  Invest Cont   \n",
       "1        60        M            H         NaN  Invest Cont   \n",
       "2        28        M            H         NaN  Invest Cont   \n",
       "3        37        M            H         NaN  Invest Cont   \n",
       "4        79        M            B         NaN  Invest Cont   \n",
       "\n",
       "                                  LOCATION  \n",
       "0  2500 S  SYCAMORE                     AV  \n",
       "1  3300    SAN MARINO                   ST  \n",
       "2                        1900    TRANSIENT  \n",
       "3  6200    4TH                          AV  \n",
       "4  1200 W  7TH                          ST  "
      ]
     },
     "execution_count": 1,
     "metadata": {},
     "output_type": "execute_result"
    }
   ],
   "source": [
    "import pandas as pd\n",
    "import numpy as np\n",
    "import matplotlib.pyplot as plt\n",
    "import seaborn as sns\n",
    "crimes = pd.read_csv(\"/kaggle/input/crimes/crimes.csv\", parse_dates=[\"Date Rptd\", \"DATE OCC\"], dtype={\"TIME OCC\": str})\n",
    "crimes.head()"
   ]
  },
  {
   "cell_type": "code",
   "execution_count": 2,
   "id": "3e0c6d6b",
   "metadata": {
    "execution": {
     "iopub.execute_input": "2024-08-27T10:32:48.374394Z",
     "iopub.status.busy": "2024-08-27T10:32:48.374007Z",
     "iopub.status.idle": "2024-08-27T10:32:48.961986Z",
     "shell.execute_reply": "2024-08-27T10:32:48.960761Z"
    },
    "executionCancelledAt": null,
    "executionTime": 800,
    "lastExecutedAt": 1724753527195,
    "lastExecutedByKernel": "7633ef43-3b76-4051-aa04-51ab9e8b726a",
    "lastScheduledRunId": null,
    "lastSuccessfullyExecutedCode": "# Extract the hour from the \"TIME OCC\" column and convert it to integer\ncrimes['HOUR OCC'] = crimes['TIME OCC'].str[:2].astype(int)\n\n# Plot the frequencies of the hours\nplt.figure(figsize=(12, 6))\nsns.countplot(x='HOUR OCC', data=crimes)\nplt.title('Frequency of Crimes by Hour')\nplt.xlabel('Hour of Occurrence')\nplt.ylabel('Frequency')\nplt.xticks(rotation=90)\nplt.show()\npeak_crime_hour=12\n",
    "outputsMetadata": {
     "0": {
      "height": 269,
      "type": "stream"
     }
    },
    "papermill": {
     "duration": 0.595173,
     "end_time": "2024-08-27T10:32:48.964436",
     "exception": false,
     "start_time": "2024-08-27T10:32:48.369263",
     "status": "completed"
    },
    "tags": []
   },
   "outputs": [
    {
     "data": {
      "image/png": "[encoded data removed]",
      "text/plain": [
       "<Figure size 1200x600 with 1 Axes>"
      ]
     },
     "metadata": {},
     "output_type": "display_data"
    }
   ],
   "source": [
    "# Extract the hour from the \"TIME OCC\" column and convert it to integer\n",
    "crimes['HOUR OCC'] = crimes['TIME OCC'].str[:2].astype(int)\n",
    "\n",
    "# Plot the frequencies of the hours\n",
    "plt.figure(figsize=(12, 6))\n",
    "sns.countplot(x='HOUR OCC', data=crimes)\n",
    "plt.title('Frequency of Crimes by Hour')\n",
    "plt.xlabel('Hour of Occurrence')\n",
    "plt.ylabel('Frequency')\n",
    "plt.xticks(rotation=90)\n",
    "plt.show()\n",
    "peak_crime_hour=12\n"
   ]
  },
  {
   "cell_type": "code",
   "execution_count": 3,
   "id": "0647a743",
   "metadata": {
    "execution": {
     "iopub.execute_input": "2024-08-27T10:32:48.974058Z",
     "iopub.status.busy": "2024-08-27T10:32:48.973636Z",
     "iopub.status.idle": "2024-08-27T10:32:49.016925Z",
     "shell.execute_reply": "2024-08-27T10:32:49.015454Z"
    },
    "executionCancelledAt": null,
    "executionTime": 53,
    "lastExecutedAt": 1724753599727,
    "lastExecutedByKernel": "7633ef43-3b76-4051-aa04-51ab9e8b726a",
    "lastScheduledRunId": null,
    "lastSuccessfullyExecutedCode": "night = crimes[(crimes[\"TIME OCC\"]<359)|(crimes[\"TIME OCC\"]>=2200)]\nnight_area = night[\"AREA NAME\"].value_counts().sort_values(ascending = False)\npeak_night_crime_location = \"Central\"\nprint(night_area)",
    "outputsMetadata": {
     "0": {
      "height": 479,
      "type": "stream"
     }
    },
    "papermill": {
     "duration": 0.051062,
     "end_time": "2024-08-27T10:32:49.019548",
     "exception": false,
     "start_time": "2024-08-27T10:32:48.968486",
     "status": "completed"
    },
    "tags": []
   },
   "outputs": [
    {
     "name": "stdout",
     "output_type": "stream",
     "text": [
      "AREA NAME\n",
      "Central        3311\n",
      "Hollywood      2698\n",
      "77th Street    2557\n",
      "Southwest      2346\n",
      "Southeast      2218\n",
      "Newton         2142\n",
      "Olympic        2137\n",
      "Pacific        1916\n",
      "Rampart        1860\n",
      "N Hollywood    1851\n",
      "Wilshire       1716\n",
      "Northeast      1684\n",
      "Van Nuys       1628\n",
      "West Valley    1520\n",
      "Topanga        1461\n",
      "Mission        1453\n",
      "Harbor         1384\n",
      "West LA        1369\n",
      "Devonshire     1348\n",
      "Hollenbeck     1315\n",
      "Foothill       1260\n",
      "Name: count, dtype: int64\n"
     ]
    }
   ],
   "source": [
    "crimes['TIME OCC']=crimes['TIME OCC'].astype(int)\n",
    "night = crimes[(crimes[\"TIME OCC\"]<359)|(crimes[\"TIME OCC\"]>=2200)]\n",
    "night_area = night[\"AREA NAME\"].value_counts().sort_values(ascending = False)\n",
    "peak_night_crime_location = \"Central\"\n",
    "print(night_area)"
   ]
  },
  {
   "cell_type": "code",
   "execution_count": 4,
   "id": "3d5cc4e3",
   "metadata": {
    "execution": {
     "iopub.execute_input": "2024-08-27T10:32:49.029895Z",
     "iopub.status.busy": "2024-08-27T10:32:49.029000Z",
     "iopub.status.idle": "2024-08-27T10:32:49.372312Z",
     "shell.execute_reply": "2024-08-27T10:32:49.370604Z"
    },
    "executionCancelledAt": null,
    "executionTime": 287,
    "lastExecutedAt": 1724753796841,
    "lastExecutedByKernel": "7633ef43-3b76-4051-aa04-51ab9e8b726a",
    "lastScheduledRunId": null,
    "lastSuccessfullyExecutedCode": "import pandas as pd\n\nlabels = [\"0-17\", \"18-25\", \"26-34\", \"35-44\", \"45-54\", \"55-64\", \"65+\"]\nbins = [0, 17, 25, 34, 44, 54, 64, float('inf')]\ncrimes[\"victim_ag\"] = pd.cut(crimes[\"Vict Age\"], bins=bins, labels=labels)\n\nvictim_ages=crimes[\"victim_ag\"].value_counts().sort_values(ascending=False)\nvictim_ages\nsns.histplot(data=crimes,x='victim_ag',bins=7)",
    "outputsMetadata": {
     "0": {
      "height": 244,
      "type": "dataFrame"
     }
    },
    "papermill": {
     "duration": 0.351304,
     "end_time": "2024-08-27T10:32:49.375222",
     "exception": false,
     "start_time": "2024-08-27T10:32:49.023918",
     "status": "completed"
    },
    "tags": []
   },
   "outputs": [
    {
     "name": "stdout",
     "output_type": "stream",
     "text": [
      "victim_ag\n",
      "26-34    47470\n",
      "35-44    42157\n",
      "45-54    28353\n",
      "18-25    28291\n",
      "55-64    20169\n",
      "65+      14747\n",
      "0-17      4528\n",
      "Name: count, dtype: int64\n"
     ]
    },
    {
     "name": "stderr",
     "output_type": "stream",
     "text": [
      "/opt/conda/lib/python3.10/site-packages/seaborn/_oldcore.py:1119: FutureWarning: use_inf_as_na option is deprecated and will be removed in a future version. Convert inf values to NaN before operating instead.\n",
      "  with pd.option_context('mode.use_inf_as_na', True):\n"
     ]
    },
    {
     "data": {
      "image/png": "[encoded data removed]",
      "text/plain": [
       "<Figure size 640x480 with 1 Axes>"
      ]
     },
     "metadata": {},
     "output_type": "display_data"
    }
   ],
   "source": [
    "import pandas as pd\n",
    "\n",
    "labels = [\"0-17\", \"18-25\", \"26-34\", \"35-44\", \"45-54\", \"55-64\", \"65+\"]\n",
    "bins = [0, 17, 25, 34, 44, 54, 64, float('inf')]\n",
    "crimes[\"victim_ag\"] = pd.cut(crimes[\"Vict Age\"], bins=bins, labels=labels)\n",
    "\n",
    "victim_ages=crimes[\"victim_ag\"].value_counts().sort_values(ascending=False)\n",
    "print(victim_ages)\n",
    "sns.histplot(data=crimes,x='victim_ag',bins=7)\n",
    "plt.show()"
   ]
  }
 ],
 "metadata": {
  "colab": {
   "name": "Welcome to DataCamp Workspaces.ipynb",
   "provenance": []
  },
  "kaggle": {
   "accelerator": "none",
   "dataSources": [
    {
     "datasetId": 5601574,
     "sourceId": 9258104,
     "sourceType": "datasetVersion"
    }
   ],
   "dockerImageVersionId": 30761,
   "isGpuEnabled": false,
   "isInternetEnabled": true,
   "language": "python",
   "sourceType": "notebook"
  },
  "kernelspec": {
   "display_name": "Python 3",
   "language": "python",
   "name": "python3"
  },
  "language_info": {
   "codemirror_mode": {
    "name": "ipython",
    "version": 3
   },
   "file_extension": ".py",
   "mimetype": "text/x-python",
   "name": "python",
   "nbconvert_exporter": "python",
   "pygments_lexer": "ipython3",
   "version": "3.10.14"
  },
  "papermill": {
   "default_parameters": {},
   "duration": 8.573527,
   "end_time": "2024-08-27T10:32:50.000880",
   "environment_variables": {},
   "exception": null,
   "input_path": "__notebook__.ipynb",
   "output_path": "__notebook__.ipynb",
   "parameters": {},
   "start_time": "2024-08-27T10:32:41.427353",
   "version": "2.6.0"
  }
 },
 "nbformat": 4,
 "nbformat_minor": 5
}
